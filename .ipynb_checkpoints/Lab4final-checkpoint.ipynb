{
 "cells": [
  {
   "cell_type": "markdown",
   "metadata": {},
   "source": [
    "<div class=\"alert alert-block alert-info\"> \n",
    "<h1><center> TSKS35: Information and Communications Engineering </center></h1>\n",
    "<br>\n",
    "<h2><center><font size=\"5\">Laboratory Exercise 4: Digital Transmission through AWGN channels and Channel Coding</font></center></h2>\n",
    "</div>\n",
    "\n",
    "\n"
   ]
  },
  {
   "cell_type": "markdown",
   "metadata": {},
   "source": [
    "In this session, we will revisit the transmission of digital information over communication channels characterized as AWGN channels. To prepare for this session, please read sections 7.1 to 7.3 of the main book, and example 9.5.4."
   ]
  },
  {
   "cell_type": "markdown",
   "metadata": {},
   "source": [
    "### Digital modulations\n",
    "\n",
    "Digital modulations allows to represent digital information in analog signal waveforms that can be transmitted through the channels. These waveforms can be geometrically represented as vectors in a space. The performance of different digital modulation methods are usually contrasted by using metrics such as bit error rate or symbol error rate.\n",
    "\n",
    "In this session, we concentrate in one-dimensional and two-dimensional modulation schemes, for instance\n",
    "\n",
    "- **Pulse amplitude modulation**. This is a one-dimensional modulation where information is conveyed by the amplitud of the transmitted signal. Binary information sequence can be subdivided into blocks of $k$ bits, called symbols, and each symbol is represented by one $M=2^k$ pulse amplitude values. In that case, it is called $M$-ary PAM. The one-dimensional vectors that represent $M$-ary PAM waveforms are given by\n",
    "\n",
    "<center> $s_m=\\sqrt{\\mathcal{E}_g} A_m,$  $m=1,2,...M,$ </center>\n",
    "\n",
    " where $\\mathcal{E}_g$ is the energy of the signal pulse. The distance between two signal points in the constellation is given by $\\sqrt{\\mathcal{E}_g (A_m-A_n)^2} $. If we select the signal amplitudes to be symetrically spaced about zero (i.e. $A_m=(2m-1-M)$) and equally distant between adjacent signal amplitudes, we call this symetric PAM.\n",
    "   \n",
    "- **Phase-shift keying**. This is a 2-dimensional modulation scheme. It modulates information by varying the phase of the carrier signal. The phase states are evenly spaced around a unit circle, and M indicates the number of distinct phases. The digital pahse-modulated signals can be represented geometrically as 2-dimensional vectors as\n",
    "\n",
    "<center> $s_m=(\\sqrt{\\mathcal{E}_s} \\cos 2 \\pi m/M, \\sqrt{\\mathcal{E}_s} \\sin 2 \\pi m/M$) $\\quad$  $m=0,1,...M,$ </center>\n",
    "\n",
    "where $\\mathcal{E}_s$ is the energy/symbol.\n",
    "\n",
    "- **Quadrature amplitude modulation**. This is a 2-dimensional modulation scheme that combines both amplitude and phase modulation. The signal constellation is arranged in a grid-like pattern on the complex plane, with each point representing a unique combination of amplitude and phase. The 2-dimensional vectors  for QAM can be expressed in the form\n",
    "\n",
    "<center> $s_m=(\\sqrt{\\mathcal{E}_s}  A_{mi}, \\sqrt{\\mathcal{E}_s} A_{mq}$ ) $\\quad$ $mi/mq=1,2,...\\sqrt{M},$ </center>"
   ]
  },
  {
   "cell_type": "markdown",
   "metadata": {},
   "source": [
    "<div class=\"alert alert-block alert-success\"> \n",
    "<font size=\"5\"><span style=\"color:green\"> Student task 1: Generation of constellations</span></font> \n",
    "   \n",
    "1. Generate the constellations for 8-PAM, QPSK, 8-PSK, and 16-QAM. You can assume $\\sqrt{\\mathcal{E}_s}=\\sqrt{\\mathcal{E}_g}=1$\n",
    "2. Apply Gray encoding, i.e., adjacent symbols (closest ones in the constellation) differ by one binary digit.\n",
    "3. Plot the respective constellations"
   ]
  },
  {
   "cell_type": "code",
   "execution_count": 15,
   "metadata": {},
   "outputs": [
    {
     "data": {
      "image/png": "[encoded data removed]",
      "text/plain": [
       "<Figure size 432x288 with 1 Axes>"
      ]
     },
     "metadata": {
      "needs_background": "light"
     },
     "output_type": "display_data"
    },
    {
     "name": "stdout",
     "output_type": "stream",
     "text": [
      "0000 0001 0011 0010 0110 0111 0101 0100\n"
     ]
    },
    {
     "data": {
      "image/png": "[encoded data removed]",
      "text/plain": [
       "<Figure size 432x288 with 1 Axes>"
      ]
     },
     "metadata": {
      "needs_background": "light"
     },
     "output_type": "display_data"
    },
    {
     "name": "stdout",
     "output_type": "stream",
     "text": [
      "00 01 11 10\n"
     ]
    },
    {
     "data": {
      "image/png": "[encoded data removed]",
      "text/plain": [
       "<Figure size 432x288 with 1 Axes>"
      ]
     },
     "metadata": {
      "needs_background": "light"
     },
     "output_type": "display_data"
    },
    {
     "name": "stdout",
     "output_type": "stream",
     "text": [
      "0000 0001 0011 0010 0110 0111 0101 0100\n"
     ]
    },
    {
     "data": {
      "image/png": "[encoded data removed]",
      "text/plain": [
       "<Figure size 432x288 with 1 Axes>"
      ]
     },
     "metadata": {
      "needs_background": "light"
     },
     "output_type": "display_data"
    },
    {
     "name": "stdout",
     "output_type": "stream",
     "text": [
      "[ 3.-3.j  3.+3.j  1.-1.j -3.-1.j -1.+1.j -1.-1.j -1.-3.j -3.-1.j -1.+3.j\n",
      " -1.+1.j -3.-1.j  1.+3.j  1.-3.j -3.+3.j -1.+1.j -3.+1.j  1.-1.j -3.+3.j\n",
      "  3.+1.j -3.+1.j  3.-3.j  1.-1.j -3.-1.j -1.-1.j  1.-3.j -1.+1.j -3.-1.j\n",
      "  1.-1.j  1.+3.j  1.-3.j -3.+3.j  3.+3.j  3.-3.j  3.-3.j  3.+1.j -1.+1.j\n",
      " -3.-3.j -1.-1.j -3.+1.j  3.-1.j  3.+3.j  1.+1.j  1.+1.j  1.+1.j  3.-1.j\n",
      "  1.-3.j -3.+3.j -1.+3.j -1.+3.j -1.+1.j -3.+1.j  3.-1.j  3.-1.j  1.+1.j\n",
      "  1.+1.j -1.+3.j -3.-3.j -1.+1.j -3.-1.j  3.-3.j -3.-3.j  1.+1.j  1.-3.j\n",
      "  1.+1.j -1.-3.j  1.-3.j  3.+1.j  1.+1.j -3.+3.j  1.-3.j  3.+3.j -1.+3.j\n",
      "  3.-1.j  3.-3.j  1.+3.j  3.+3.j  3.+3.j -1.-1.j -1.+1.j  3.+1.j -3.+3.j\n",
      " -1.-3.j  1.+1.j  3.+3.j  3.-3.j -3.-3.j  3.-1.j  3.+1.j -1.-1.j  1.+1.j\n",
      "  1.-1.j -3.-1.j  1.-1.j -3.-3.j -1.+1.j -3.-3.j  1.-3.j -1.+3.j -3.+3.j\n",
      "  3.-3.j]\n"
     ]
    }
   ],
   "source": [
    "##Write your code here...\n",
    "import matplotlib.pyplot as plt\n",
    "import numpy as np\n",
    "\n",
    "num_symbols = 1000000\n",
    "\n",
    "# 8-PAM\n",
    "x_int = list(range(0,7)) # 0 to 7\n",
    "x_symbols = [x*2-7 for x in x_int]\n",
    "plt.plot(np.real(x_symbols), np.imag(x_symbols), '.')\n",
    "plt.grid(True)\n",
    "plt.show()\n",
    "\n",
    "print(\"0000 0001 0011 0010 0110 0111 0101 0100\")\n",
    "\n",
    "# QPSK\n",
    "x_int = np.random.randint(0, 4, num_symbols) # 0 to 3\n",
    "x_degrees = x_int*360/4.0 + 45 # 45, 135, 225, 315 degrees\n",
    "x_radians = x_degrees*np.pi/180.0 # sin() and cos() takes in radians\n",
    "x_symbols = np.cos(x_radians) + 1j*np.sin(x_radians) # this produces our QPSK complex symbols\n",
    "plt.plot(np.real(x_symbols), np.imag(x_symbols), '.')\n",
    "plt.grid(True)\n",
    "plt.show()\n",
    "\n",
    "print(\"00 01 11 10\")\n",
    "\n",
    "# 8-PSK\n",
    "x_int = np.random.randint(0, 8, num_symbols) # 0 to 7\n",
    "x_degrees = x_int*360/8.0 + 45/2 # 45, 135, 225, 315 degrees\n",
    "x_radians = x_degrees*np.pi/180.0 # sin() and cos() takes in radians\n",
    "x_symbols = np.cos(x_radians) + 1j*np.sin(x_radians) # this produces our QPSK complex symbols\n",
    "plt.plot(np.real(x_symbols), np.imag(x_symbols), '.')\n",
    "plt.grid(True)\n",
    "plt.show()\n",
    "\n",
    "print(\"0000 0001 0011 0010 0110 0111 0101 0100\")\n",
    "\n",
    "# 16-QAM\n",
    "x_int = np.random.randint(0, 4, num_symbols) # 0 to 3\n",
    "x_int_img = np.random.randint(0, 4, num_symbols) # 0 to 3\n",
    "#qam_symbols = [-3+1j*3, -1+1j*3, 1+1j*3, 3+1j*3, -3+1j*1, -1+1j*1, 1+1j*1, 3+1j*1, -3+1j*-1, -1+1j*-1, 1+1j*-1, 3+1j*-1, -3+1j*-3, -1+1j*-3, 1+1j*-3, 3+1j*-3,]\n",
    "#grey_qam_symbols = [\"0000\", \"0001\", \"0011\", \"0010\", \"0110\", \"0111\", \"0101\", \"0100\", \"1100\", \"1101\", \"1111\", \"1110\", \"1010\", \"1011\", \"1011\", \"1001\", \"1000\"]\n",
    "qam_symbols = x_int*2-3 + 1j*(x_int_img*2-3)\n",
    "plt.plot(np.real(qam_symbols), np.imag(qam_symbols), '.')\n",
    "plt.grid(True)\n",
    "plt.show()\n",
    "\n",
    "print(qam_symbols[0:100])\n",
    "#print(grey_qam_symbols)\n",
    "#print(\"0000 0001 0011 0010 0110 0111 0101 0100 1100 1101 1111 1110 1010 1011 1011 1001 1000\")\n"
   ]
  },
  {
   "cell_type": "markdown",
   "metadata": {},
   "source": [
    "### AWGN channel\n",
    "\n",
    "The channel is assumed to corrupt the signal by the addition of white Gaussian noise. Thus, the received signal in the interval $0\\leq t \\leq T$ may be expressed as\n",
    "\n",
    "<center> $r(t)=s_m(t)+n(t)$, $\\quad$ $0\\leq t \\leq T$ </center>"
   ]
  },
  {
   "cell_type": "markdown",
   "metadata": {},
   "source": [
    "<div class=\"alert alert-block alert-success\"> \n",
    "<font size=\"5\"><span style=\"color:green\"> Student task 2: Signal transmission through AWGN channel</span></font>\n",
    "\n",
    "Complete the code snippet below for each modulation scheme of Student task 1\n",
    "1. Randomly generate $10^6$ symbols to be transmitted.\n",
    "2. Generate $n(t)$.\n",
    "3. Obtain $r(t)$.\n",
    "4. Plot the received symbols on the space (noisy constellation).\n",
    "5. Apply the optimum dectector (minimum distance detector) and obtain the detected symbols.\n",
    "6. Plot the curves of symbol error rate and bit error rate for the different modultaions for different values of SNR."
   ]
  },
  {
   "cell_type": "code",
   "execution_count": 19,
   "metadata": {},
   "outputs": [
    {
     "data": {
      "image/png": "[encoded data removed]",
      "text/plain": [
       "<Figure size 432x288 with 1 Axes>"
      ]
     },
     "metadata": {
      "needs_background": "light"
     },
     "output_type": "display_data"
    },
    {
     "ename": "KeyboardInterrupt",
     "evalue": "",
     "output_type": "error",
     "traceback": [
      "\u001b[0;31m---------------------------------------------------------------------------\u001b[0m",
      "\u001b[0;31mKeyboardInterrupt\u001b[0m                         Traceback (most recent call last)",
      "\u001b[0;32m/tmp/ipykernel_266406/3198724574.py\u001b[0m in \u001b[0;36m<module>\u001b[0;34m\u001b[0m\n\u001b[1;32m     38\u001b[0m         \u001b[0mmin_distance\u001b[0m \u001b[0;34m=\u001b[0m \u001b[0;36m10000\u001b[0m\u001b[0;34m\u001b[0m\u001b[0;34m\u001b[0m\u001b[0m\n\u001b[1;32m     39\u001b[0m         \u001b[0;32mfor\u001b[0m \u001b[0mj\u001b[0m \u001b[0;32min\u001b[0m \u001b[0mrange\u001b[0m\u001b[0;34m(\u001b[0m\u001b[0;36m0\u001b[0m\u001b[0;34m,\u001b[0m \u001b[0mlen\u001b[0m\u001b[0;34m(\u001b[0m\u001b[0mqam_symbols_positions\u001b[0m\u001b[0;34m)\u001b[0m\u001b[0;34m)\u001b[0m\u001b[0;34m:\u001b[0m\u001b[0;34m\u001b[0m\u001b[0;34m\u001b[0m\u001b[0m\n\u001b[0;32m---> 40\u001b[0;31m             \u001b[0mdistance\u001b[0m \u001b[0;34m=\u001b[0m \u001b[0mnp\u001b[0m\u001b[0;34m.\u001b[0m\u001b[0msqrt\u001b[0m\u001b[0;34m(\u001b[0m\u001b[0mnp\u001b[0m\u001b[0;34m.\u001b[0m\u001b[0mreal\u001b[0m\u001b[0;34m(\u001b[0m\u001b[0mqam_symbols_positions\u001b[0m\u001b[0;34m[\u001b[0m\u001b[0mj\u001b[0m\u001b[0;34m]\u001b[0m\u001b[0;34m-\u001b[0m\u001b[0mr\u001b[0m\u001b[0;34m)\u001b[0m\u001b[0;34m**\u001b[0m\u001b[0;36m2\u001b[0m \u001b[0;34m+\u001b[0m \u001b[0mnp\u001b[0m\u001b[0;34m.\u001b[0m\u001b[0mabs\u001b[0m\u001b[0;34m(\u001b[0m\u001b[0mnp\u001b[0m\u001b[0;34m.\u001b[0m\u001b[0mimag\u001b[0m\u001b[0;34m(\u001b[0m\u001b[0mqam_symbols_positions\u001b[0m\u001b[0;34m[\u001b[0m\u001b[0mj\u001b[0m\u001b[0;34m]\u001b[0m\u001b[0;34m-\u001b[0m\u001b[0mr\u001b[0m\u001b[0;34m)\u001b[0m\u001b[0;34m**\u001b[0m\u001b[0;36m2\u001b[0m\u001b[0;34m)\u001b[0m\u001b[0;34m)\u001b[0m\u001b[0;34m\u001b[0m\u001b[0;34m\u001b[0m\u001b[0m\n\u001b[0m\u001b[1;32m     41\u001b[0m             \u001b[0;31m#print(distance)\u001b[0m\u001b[0;34m\u001b[0m\u001b[0;34m\u001b[0m\u001b[0m\n\u001b[1;32m     42\u001b[0m             \u001b[0;32mif\u001b[0m \u001b[0mdistance\u001b[0m \u001b[0;34m<\u001b[0m \u001b[0mold_distance\u001b[0m\u001b[0;34m:\u001b[0m\u001b[0;34m\u001b[0m\u001b[0;34m\u001b[0m\u001b[0m\n",
      "\u001b[0;32m<__array_function__ internals>\u001b[0m in \u001b[0;36mreal\u001b[0;34m(*args, **kwargs)\u001b[0m\n",
      "\u001b[0;31mKeyboardInterrupt\u001b[0m: "
     ]
    }
   ],
   "source": [
    "SNR_dB = [10, 15, 20, 25, 30, 35, 40]\n",
    "\n",
    "\n",
    "SER = []\n",
    "for SNR_test in range(0, len(SNR_dB)):\n",
    "    SNR_linear = 10**(SNR_dB[SNR_test] / 10)\n",
    "    ##For QAM\n",
    "    signal_power = np.mean(np.abs(qam_symbols)**2)\n",
    "    noise_power = signal_power / SNR_linear\n",
    "    num_symbols=len(qam_symbols)\n",
    "\n",
    "    #Generate n(t)\n",
    "    noise = ((np.random.randn(num_symbols) + 1j*np.random.randn(num_symbols)))\n",
    "    rx_signal = qam_symbols*signal_power + noise*np.sqrt(noise_power/2)\n",
    "\n",
    "    #Plot noisy constellation\n",
    "    plt.plot(np.real(rx_signal), np.imag(rx_signal), '.')\n",
    "    plt.grid(True)\n",
    "    plt.show()\n",
    "\n",
    "    # Optimum detector\n",
    "\n",
    "    qam_symbols_positions = [-3+1j*3, -1+1j*3, 1+1j*3, 3+1j*3, -3+1j*1, -1+1j*1, 1+1j*1, 3+1j*1, -3+1j*-1, -1+1j*-1, 1+1j*-1, 3+1j*-1, -3+1j*-3, -1+1j*-3, 1+1j*-3, 3+1j*-3,]\n",
    "    grey_qam_symbols = [\"0000\", \"0001\", \"0011\", \"0010\", \"0110\", \"0111\", \"0101\", \"0100\", \"1100\", \"1101\", \"1111\", \"1110\", \"1010\", \"1011\", \"1011\", \"1001\", \"1000\"]\n",
    "\n",
    "    #x_int = list(range(0,3))\n",
    "    #x_int_img = list(range(0,3))\n",
    "    #qam_symbols_p = []\n",
    "    #for i in range(0, len(x_int)):\n",
    "    #    for j in range(0, len(x_int_img)):\n",
    "    #        qam_symbols_p.append(x_int[i]*2-3 + 1j*(x_int_img[j]*2-3))\n",
    "    #print(qam_symbols_p)\n",
    "\n",
    "    minimum_index = 0\n",
    "    detected_idx = np.zeros(num_symbols, dtype=int)\n",
    "    detected_symbols = []\n",
    "    for i, r in enumerate(rx_signal):\n",
    "        min_distance = 10000\n",
    "        for j in range(0, len(qam_symbols_positions)):\n",
    "            distance = np.sqrt(np.real(qam_symbols_positions[j]-r)**2 + np.abs(np.imag(qam_symbols_positions[j]-r)**2))\n",
    "            #print(distance)\n",
    "            if distance < old_distance:\n",
    "                min_distance = distance\n",
    "                minimum_index = j\n",
    "        detected_symbols.append(qam_symbols_positions[minimum_index])\n",
    "        #detected_idx[i] = np.argmin(distances)\n",
    "\n",
    "        #....\n",
    "\n",
    "    # Compute symbol error rate 0(SER)\n",
    "    errors = np.sum(qam_symbols != detected_symbols)\n",
    "    SER.append(errors / num_symbols)\n",
    "\n",
    "    # Display results\n",
    "    print(errors)\n",
    "    print(\"Symbol Error Rate (SER):\", SER[SNR_test])\n",
    "\n",
    "plt.plot(SNR_dB,SER)\n",
    "\n",
    "\n"
   ]
  },
  {
   "cell_type": "markdown",
   "metadata": {},
   "source": [
    "### Channel coding\n",
    "\n",
    "Channel coding consists on selectively introducing redundant bits to improve robustness agains errors due to channel impairments, for instance, noise. In linear block codes, the information sequence is broken into blocks of length $k$ and each block is mapped into channel inputs of length $n$. Hamming codes are a class of linear block codes with $n=2^m-1$, $k=2^m -m-1$, and $d_{min}=3$, for some integer $m\\geq2$.\n"
   ]
  },
  {
   "cell_type": "markdown",
   "metadata": {},
   "source": [
    "<div class=\"alert alert-block alert-success\"> \n",
    "<font size=\"5\"><span style=\"color:green\"> Student task 3: Channel coding</span></font>\n",
    "\n",
    "1. Generate random information bits ($4\\times 10^6$) and store in the variable -data-.\n",
    "2. Check Example 9.5.4 of the book and the code snippet below, and apply Hamming code (7,4) to the information bits.\n",
    "3. Apply QPSK or 4-QAM modulation to the coded information.\n",
    "4. Transmit over an AWGN channel.\n",
    "5. Decode with hard-decision decoding.\n",
    "6. Compare the bit error rate of coded and non-coded transmission."
   ]
  },
  {
   "cell_type": "code",
   "execution_count": null,
   "metadata": {},
   "outputs": [],
   "source": [
    "\n",
    "        #....\n",
    "\n",
    "    # Compute symbol error rate 0(SER)\n",
    "    errors = np.sum(qam_symbols != detected_symbols)\n",
    "    SER.append(errors / num_symbols)\n",
    "\n",
    "    # Display results\n",
    "    print(errors)\n",
    "    print(\"Symbol Error Rate (SER):\", SER[SNR_test])\n",
    "import numpy as np\n",
    "import matplotlib.pyplot as plt\n",
    "\n",
    "##Generate random information bits\n",
    "    \n",
    "##Apply hamming coding   \n",
    "def hamming_encode(data):\n",
    "    if len(data) % 4 != 0:\n",
    "        raise ValueError(\"Input data length should be multiple of 4.\")\n",
    "\n",
    "    G = [[1, 0, 0, 1, 0, 1, 1],\n",
    "         [0, 1, 0, 1, 0, 1, 0],\n",
    "         [0, 0, 1, 1, 0, 0, 1],\n",
    "         [0, 0, 0, 0, 1, 1, 1]]\n",
    "\n",
    "    encoded_data = []\n",
    "    for k in range(0, len(data), 4):\n",
    "        block = data[k:k+4]\n",
    "        for i in range(7):\n",
    "            sum = 0\n",
    "            for j in range(4):\n",
    "                sum += block[j] * G[j][i]\n",
    "            encoded_data.append(sum % 2)\n",
    "\n",
    "    return encoded_data\n",
    "\n",
    "## Modulate with QPSK or 4-QAM\n",
    "\n",
    "## Transmit symbols throught AWGN channel\n",
    "\n",
    "## Decode symbols\n",
    "\n",
    "def hamming_decode(received_data):\n",
    "    if len(received_data) % 7 != 0:\n",
    "        raise ValueError(\"Received data length should be multiple of 7.\")\n",
    "\n",
    "    H = [[1, 0, 1, 0, 1, 0, 1],\n",
    "         [1, 1, 0, 0, 1, 1, 0],\n",
    "         [1, 1, 1, 1, 0, 0, 0]]\n",
    "\n",
    "    decoded_data = []\n",
    "    for k in range(0, len(received_data), 7):\n",
    "        block = received_data[k:k+7]\n",
    "        syndrome = []\n",
    "        for i in range(3):\n",
    "            syndrome_sum = 0\n",
    "            for j in range(7):\n",
    "                syndrome_sum += block[j] * H[i][j]\n",
    "            syndrome.append(syndrome_sum % 2)\n",
    "        error_pos = sum([2 ** i for i, bit in enumerate(syndrome) if bit])\n",
    "        if error_pos > 0:\n",
    "            block[7-error_pos] ^= 1  \n",
    "        decoded_data.extend([block[0], block[1], block[2], block[4]])\n",
    "\n",
    "    return decoded_data\n",
    "\n",
    "\n",
    "## Plot bit error rate and compare the performance of coded and non-coded transmission.\n",
    "\n",
    "plt.figure(2)\n",
    "plt.semilogy(snr_dbs, ber_encoded, 'o-', label='With Hamming Encoding')\n",
    "plt.semilogy(snr_dbs, ber_plain, 's-', label='Without Encoding')\n",
    "plt.title('BER Comparison with and without Hamming Encoding')\n",
    "plt.xlabel('SNR (dB)')\n",
    "plt.ylabel('Bit Error Rate')\n",
    "plt.legend()\n",
    "plt.grid(True)\n",
    "plt.show()\n",
    "\n",
    "\n"
   ]
  },
  {
   "cell_type": "markdown",
   "metadata": {},
   "source": [
    "<div class=\"alert alert-block alert-info\"> \n",
    "<h2><center> Report of Laboratory Excercise 4</center></h2>\n",
    "<br>\n",
    "\n",
    "Answer the following questions supporting your claims with formulations and plots obtained from the Student Tasks. Add your codes at the end of the final report as appendix.\n",
    "    \n",
    "__NOTE:__ You should prepare these questions up to the next laboratory session. Teaching assistants will verify your progress during next session. Final report should be uploaded to Lisam in pdf format according to laboratory guidelines. \n",
    "    \n",
    "1. What are the difference between one- and two-dimensional modulations? What is the difference between amplitude and phase modulations? Observe and describe the constellations. (1pt).\n",
    "2. What is the purpose of Gray encoding? What is the difference between symbol error rate and bit error rate after applying Gray coding? (1pt)\n",
    "3. Comment on the difference on the symbol error rate for different modulation schemes, what are the advantages and disadvantages of those? (2pt)\n",
    "4. What is the purpose of channel coding? (1pt)\n",
    "</div>"
   ]
  },
  {
   "cell_type": "code",
   "execution_count": null,
   "metadata": {},
   "outputs": [],
   "source": []
  }
 ],
 "metadata": {
  "kernelspec": {
   "display_name": "Python 3 (ipykernel)",
   "language": "python",
   "name": "python3"
  },
  "language_info": {
   "codemirror_mode": {
    "name": "ipython",
    "version": 3
   },
   "file_extension": ".py",
   "mimetype": "text/x-python",
   "name": "python",
   "nbconvert_exporter": "python",
   "pygments_lexer": "ipython3",
   "version": "3.10.12"
  }
 },
 "nbformat": 4,
 "nbformat_minor": 4
}
